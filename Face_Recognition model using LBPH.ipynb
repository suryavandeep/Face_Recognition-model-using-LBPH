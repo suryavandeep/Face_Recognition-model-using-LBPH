{
 "cells": [
  {
   "cell_type": "markdown",
   "metadata": {},
   "source": [
    "### Creating a program for detecting face and than saving 100 images into a folder containing just the face part cropped from image"
   ]
  },
  {
   "cell_type": "code",
   "execution_count": null,
   "metadata": {},
   "outputs": [],
   "source": [
    "import numpy as np\n",
    "import cv2\n",
    "from os import listdir\n",
    "face_model=cv2.CascadeClassifier('haarcascade_frontalface_default.xml')\n",
    "\n",
    "count=0\n",
    "cap=cv2.VideoCapture(0)\n",
    "while True:\n",
    "    status,img=cap.read()\n",
    "    faces=face_model.detectMultiScale(img)\n",
    "    if len(faces)==0:\n",
    "        grin=np.zeros((200,200,3))+[0,255,0]\n",
    "        cv2.putText(grin,\"Face not Detected\",(10,20),cv2.FONT_ITALIC,0.5,(200,0,0),1)\n",
    "        cv2.imshow(\"Face Detection\",grin)\n",
    "    else:\n",
    "        for (u,v,w,z) in faces:\n",
    "            count+=1\n",
    "            rect_img=cv2.rectangle(img,(u,v),(u+w,v+z),[0,200,0],2)\n",
    "            face_crop=rect_img[v:v+z,u:u+w]\n",
    "            cv2.imwrite(\"____DIRECTORY_PATH____//image\"+str(count)+\".jpg\",face_crop)            \n",
    "            cv2.putText(face_crop,str(count),(10,20),cv2.FONT_ITALIC,0.5,[0,255,0],1)\n",
    "            cv2.imshow(\"Face Detection\",face_crop)\n",
    "    if cv2.waitKey(1)==13 or count>=100:\n",
    "        break\n",
    "cv2.destroyAllWindows()\n",
    "cap.release()\n",
    "print(\"Data Created Successfully !\")"
   ]
  },
  {
   "cell_type": "markdown",
   "metadata": {},
   "source": [
    "### Training the LBPHFaceRecognizer Model with the previously Generated Data"
   ]
  },
  {
   "cell_type": "code",
   "execution_count": null,
   "metadata": {},
   "outputs": [],
   "source": [
    "import numpy as np\n",
    "import cv2\n",
    "from os import listdir\n",
    "file_list=listdir(\"____DIRECTORY_PATH____//face_data//\")\n",
    "training_data,labels=[],[]\n",
    "for i in range(0,100):\n",
    "    images=cv2.imread(\"____DIRECTORY_PATH____//face_data//\"+str(file_list[i]),cv2.IMREAD_GRAYSCALE)\n",
    "    training_data.append(images)\n",
    "    labels.append(i)\n",
    "    \n",
    "training_data=np.asarray(training_data)\n",
    "labels=np.array(labels)\n",
    "model=cv2.face_LBPHFaceRecognizer.create()\n",
    "model.train(training_data,labels)\n",
    "print(\"Model Trained Successfully !\")"
   ]
  },
  {
   "cell_type": "markdown",
   "metadata": {},
   "source": [
    "### Testing the accuracy of Trained LBPH Model and accordingly we can put a trigger for an action like opening a WebPage or playing Music or Sending Mail etc, when accuracy goes above 90%"
   ]
  },
  {
   "cell_type": "code",
   "execution_count": null,
   "metadata": {},
   "outputs": [],
   "source": [
    "import numpy as np\n",
    "import cv2\n",
    "import webbrowser as wb\n",
    "harcascade=cv2.CascadeClassifier(\"haarcascade_frontalface_default.xml\")\n",
    "cap=cv2.VideoCapture(0)\n",
    "while True:\n",
    "    status,frame=cap.read()\n",
    "    face_cor=harcascade.detectMultiScale(frame)\n",
    "    if len(face_cor)==0:\n",
    "        cv2.imshow(\"Face Recognition\",frame)\n",
    "    else:\n",
    "        for (u,v,w,z) in face_cor:\n",
    "            rect_image=cv2.rectangle(frame,(u,v),(u+w,v+z),[0,255,0],2)\n",
    "            face=frame[v:v+z,u:u+w]\n",
    "            gray_face=cv2.cvtColor(face,cv2.COLOR_BGR2GRAY)\n",
    "            result=model.predict(gray_face)\n",
    "            accuracy=int(100*(1-(result[1]/400)))\n",
    "            cv2.putText(rect_image,\"Face Recognition accuracy :\"+str(accuracy)+\"%\",(10,20),cv2.FONT_ITALIC,0.5,[255,255,255],1)\n",
    "            if accuracy>90:\n",
    "                cv2.putText(rect_image,\"Welcome Deepak, your face is recognised\",(10,40),cv2.FONT_ITALIC,0.5,[255,255,255],1)\n",
    "                cv2.imshow(\"Face Recognition\",rect_image)  \n",
    "            else: \n",
    "                cv2.imshow(\"Face Recognition\",rect_image)\n",
    "    if cv2.waitKey(1)==13:\n",
    "        break\n",
    "        \n",
    "cv2.destroyAllWindows()\n",
    "cap.release()"
   ]
  },
  {
   "cell_type": "markdown",
   "metadata": {},
   "source": [
    "### Above code is revised here with minor update, working 100% affectively  :"
   ]
  },
  {
   "cell_type": "code",
   "execution_count": null,
   "metadata": {},
   "outputs": [],
   "source": [
    "import numpy as np\n",
    "import cv2\n",
    "from os import listdir\n",
    "cascade=cv2.CascadeClassifier(\"haarcascade_frontalface_default.xml\")"
   ]
  },
  {
   "cell_type": "code",
   "execution_count": null,
   "metadata": {},
   "outputs": [],
   "source": [
    "cap=cv2.VideoCapture(0)\n",
    "count=0\n",
    "while True:\n",
    "    status,frame=cap.read()\n",
    "    faces=cascade.detectMultiScale(frame)\n",
    "    if len(faces)==0:\n",
    "        grin=np.zeros((200,200,3))+[0,255,0]\n",
    "        cv2.imshow(\"Face Recognition\",grin)\n",
    "    else:\n",
    "        for x,y,u,v in faces:\n",
    "            count+=1\n",
    "            crop_face=frame[y:y+v,x:x+u]\n",
    "            cv2.imwrite(\"____DIRECTORY_PATH____//face_data//image\"+str(count)+\".jpg\",crop_face)\n",
    "            rect_image=cv2.rectangle(frame,(x,y),(x+u,y+v),[0,255,0],2)\n",
    "            cv2.putText(crop_face,str(count),(20,20),cv2.FONT_ITALIC,0.5,[0,255,0],1)\n",
    "            cv2.imshow(\"Face Recognition\",crop_face)\n",
    "    if cv2.waitKey(1)==13 or count==100:\n",
    "        break\n",
    "cv2.destroyAllWindows()\n",
    "cap.release()"
   ]
  },
  {
   "cell_type": "code",
   "execution_count": null,
   "metadata": {},
   "outputs": [],
   "source": [
    "file_list=listdir(\"____DIRECTORY_PATH____//face_data//\")\n",
    "file_array=np.asarray(file_list)\n",
    "training_data,labels=[],[]\n",
    "for i in range(0,100):\n",
    "    training_data.append(cv2.imread(\"____DIRECTORY_PATH____//face_data//\"+str(file_list[i]),cv2.IMREAD_GRAYSCALE))\n",
    "    labels.append(i)\n",
    "training_data=np.asarray(training_data)\n",
    "labels=np.asarray(labels)\n",
    "model=cv2.face_LBPHFaceRecognizer.create()\n",
    "model.train(training_data,labels)"
   ]
  },
  {
   "cell_type": "code",
   "execution_count": null,
   "metadata": {},
   "outputs": [],
   "source": [
    "cap=cv2.VideoCapture(0)\n",
    "\n",
    "while True:\n",
    "    status,frame=cap.read()\n",
    "    faces=cascade.detectMultiScale(frame)\n",
    "    if len(faces)==0:\n",
    "        cv2.imshow(\"Face Recognition\",frame)\n",
    "    else:\n",
    "        for (x,y,u,v) in faces:\n",
    "            crop_face=frame[y:y+v,x:x+u]\n",
    "            gray_face=cv2.cvtColor(crop_face,cv2.COLOR_BGR2GRAY)\n",
    "            results=model.predict(gray_face)\n",
    "            if results[1]<500:\n",
    "                accuracy=int(100*(1-results[1]/400))\n",
    "                if accuracy>=90:\n",
    "                    cv2.putText(frame,\"Welcome Deepak, Your is face Recognised with \"+str(accuracy)+\"% accuracy\",(20,20),cv2.FONT_ITALIC,0.5,[0,255,0],1)\n",
    "                    cv2.imshow(\"Face Recognition\",frame)\n",
    "                else:\n",
    "                    cv2.putText(frame,\"Face not Recognised\",(20,20),cv2.FONT_ITALIC,0.5,[0,0,255],1)\n",
    "                    cv2.imshow(\"Face Recognition\",frame)\n",
    "    if cv2.waitKey(1)==13:\n",
    "        break\n",
    "cv2.destroyAllWindows()\n",
    "cap.release()\n",
    "                    \n",
    "        "
   ]
  },
  {
   "cell_type": "code",
   "execution_count": null,
   "metadata": {},
   "outputs": [],
   "source": []
  }
 ],
 "metadata": {
  "kernelspec": {
   "display_name": "Python 3",
   "language": "python",
   "name": "python3"
  },
  "language_info": {
   "codemirror_mode": {
    "name": "ipython",
    "version": 3
   },
   "file_extension": ".py",
   "mimetype": "text/x-python",
   "name": "python",
   "nbconvert_exporter": "python",
   "pygments_lexer": "ipython3",
   "version": "3.6.5"
  }
 },
 "nbformat": 4,
 "nbformat_minor": 2
}
